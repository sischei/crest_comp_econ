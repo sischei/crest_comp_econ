{
 "cells": [
  {
   "cell_type": "markdown",
   "metadata": {},
   "source": [
    "## This notebook shows how to use GPFlow to approximate functions"
   ]
  },
  {
   "cell_type": "code",
   "execution_count": 1,
   "metadata": {},
   "outputs": [],
   "source": [
    "import tensorflow as tf\n",
    "import gpflow as gp\n",
    "gp.config.set_default_summary_fmt(\"notebook\")\n",
    "import numpy as np\n",
    "from matplotlib import pyplot as plt"
   ]
  },
  {
   "cell_type": "markdown",
   "metadata": {},
   "source": [
    "### 1D example"
   ]
  },
  {
   "cell_type": "code",
   "execution_count": 2,
   "metadata": {},
   "outputs": [],
   "source": [
    "def f(x):\n",
    "    return x ** 2\n",
    "\n",
    "# generate training data\n",
    "Ntrain = 200\n",
    "Ntest1 = 50\n",
    "Ntest2 = 500\n",
    "Ntest3 = 2000\n",
    "\n",
    "X_train = np.random.rand(Ntrain, 1)\n",
    "Y_train = f(X_train)\n",
    "\n",
    "X_test1 = np.random.rand(Ntest1, 1)\n",
    "Y_test1 = f(X_test1)\n",
    "\n",
    "X_test2 = np.random.rand(Ntest2, 1)\n",
    "Y_test2 = f(X_test2)\n",
    "\n",
    "X_test3 = np.random.rand(Ntest3, 1)\n",
    "Y_test3 = f(X_test3)"
   ]
  },
  {
   "cell_type": "markdown",
   "metadata": {},
   "source": [
    "#### a) without `@tf.function`"
   ]
  },
  {
   "cell_type": "code",
   "execution_count": 3,
   "metadata": {},
   "outputs": [
    {
     "data": {
      "text/html": [
       "<table>\n",
       "<thead>\n",
       "<tr><th>name                   </th><th>class    </th><th>transform       </th><th>prior  </th><th>trainable  </th><th>shape  </th><th>dtype  </th><th style=\"text-align: right;\">  value</th></tr>\n",
       "</thead>\n",
       "<tbody>\n",
       "<tr><td>GPR.kernel.variance    </td><td>Parameter</td><td>Softplus        </td><td>       </td><td>True       </td><td>()     </td><td>float64</td><td style=\"text-align: right;\">      1</td></tr>\n",
       "<tr><td>GPR.kernel.lengthscales</td><td>Parameter</td><td>Softplus        </td><td>       </td><td>True       </td><td>()     </td><td>float64</td><td style=\"text-align: right;\">      1</td></tr>\n",
       "<tr><td>GPR.likelihood.variance</td><td>Parameter</td><td>Softplus + Shift</td><td>       </td><td>True       </td><td>()     </td><td>float64</td><td style=\"text-align: right;\">      1</td></tr>\n",
       "</tbody>\n",
       "</table>"
      ],
      "text/plain": [
       "<IPython.core.display.HTML object>"
      ]
     },
     "metadata": {},
     "output_type": "display_data"
    },
    {
     "data": {
      "text/html": [
       "<table>\n",
       "<thead>\n",
       "<tr><th>name                   </th><th>class    </th><th>transform       </th><th>prior  </th><th>trainable  </th><th>shape  </th><th>dtype  </th><th style=\"text-align: right;\">    value</th></tr>\n",
       "</thead>\n",
       "<tbody>\n",
       "<tr><td>GPR.kernel.variance    </td><td>Parameter</td><td>Softplus        </td><td>       </td><td>True       </td><td>()     </td><td>float64</td><td style=\"text-align: right;\">562.868  </td></tr>\n",
       "<tr><td>GPR.kernel.lengthscales</td><td>Parameter</td><td>Softplus        </td><td>       </td><td>True       </td><td>()     </td><td>float64</td><td style=\"text-align: right;\">  5.72068</td></tr>\n",
       "<tr><td>GPR.likelihood.variance</td><td>Parameter</td><td>Softplus + Shift</td><td>       </td><td>True       </td><td>()     </td><td>float64</td><td style=\"text-align: right;\">  1e-06  </td></tr>\n",
       "</tbody>\n",
       "</table>"
      ],
      "text/plain": [
       "<IPython.core.display.HTML object>"
      ]
     },
     "metadata": {},
     "output_type": "display_data"
    }
   ],
   "source": [
    "approx = gp.models.GPR(data=(X_train, Y_train), kernel=gp.kernels.SquaredExponential(), mean_function=None)\n",
    "gp.utilities.print_summary(approx)\n",
    "# optimize hp\n",
    "optimizer = gp.optimizers.Scipy()\n",
    "optimizer.minimize(approx.training_loss, approx.trainable_variables, options=dict(maxiter=100))\n",
    "gp.utilities.print_summary(approx)"
   ]
  },
  {
   "cell_type": "code",
   "execution_count": 4,
   "metadata": {},
   "outputs": [],
   "source": [
    "# make predictions\n",
    "Y_train_approx, var_train_approx = approx.predict_f(X_train)\n",
    "Y_test1_approx, var_test1_approx = approx.predict_f(X_test1)\n",
    "Y_test2_approx, var_test2_approx = approx.predict_f(X_test2)\n",
    "Y_test3_approx, var_test3_approx = approx.predict_f(X_test3)\n"
   ]
  },
  {
   "cell_type": "code",
   "execution_count": 5,
   "metadata": {},
   "outputs": [
    {
     "data": {
      "image/png": "[encoded data removed]",
      "text/plain": [
       "<matplotlib.figure.Figure at 0x7f1ec0739748>"
      ]
     },
     "metadata": {
      "needs_background": "light"
     },
     "output_type": "display_data"
    }
   ],
   "source": [
    "plt.plot(X_train[:, 0], Y_train[:, 0], 'bo', label = 'training data')\n",
    "plt.plot(X_train[:, 0], Y_train_approx[:, 0], 'rx', label = 'prediction')\n",
    "plt.legend()\n",
    "plt.show()"
   ]
  },
  {
   "cell_type": "code",
   "execution_count": 6,
   "metadata": {},
   "outputs": [
    {
     "name": "stdout",
     "output_type": "stream",
     "text": [
      "Create model:\n",
      "100 loops, best of 3: 12.7 ms per loop\n",
      "Optimize hps:\n",
      "1 loop, best of 3: 294 ms per loop\n",
      "Predict test1:\n",
      "100 loops, best of 3: 14.4 ms per loop\n",
      "Predict test2:\n",
      "10 loops, best of 3: 19.5 ms per loop\n",
      "Predict test3:\n",
      "10 loops, best of 3: 31.7 ms per loop\n"
     ]
    }
   ],
   "source": [
    "# measure timings\n",
    "print('Create model:')\n",
    "%timeit gp.models.GPR(data=(X_train, Y_train), kernel=gp.kernels.SquaredExponential(), mean_function=None)\n",
    "print('Optimize hps:')\n",
    "%timeit optimizer.minimize(approx.training_loss, approx.trainable_variables, options=dict(maxiter=100))\n",
    "print('Predict test1:')\n",
    "%timeit approx.predict_f(X_test1)\n",
    "print('Predict test2:')\n",
    "%timeit approx.predict_f(X_test2)\n",
    "print('Predict test3:')\n",
    "%timeit approx.predict_f(X_test3)"
   ]
  },
  {
   "cell_type": "markdown",
   "metadata": {},
   "source": [
    "### b) now using `@tf.function`\n",
    "For convenience I use the class implemented in `new_approximators.py`, it also normalizes and other things, but thats not the point. The point is that the `_predict` and `_predict_with_var` methods are decorated. Here the hp's are always optimized when the model is created. We can measure a significant speedup for prediction."
   ]
  },
  {
   "cell_type": "code",
   "execution_count": 7,
   "metadata": {},
   "outputs": [],
   "source": [
    "from new_approximators import GPflow_norm"
   ]
  },
  {
   "cell_type": "code",
   "execution_count": 8,
   "metadata": {},
   "outputs": [
    {
     "name": "stdout",
     "output_type": "stream",
     "text": [
      "Create model and optimize hps:\n",
      "1 loop, best of 3: 361 ms per loop\n",
      "Predict test1:\n",
      "The slowest run took 550.78 times longer than the fastest. This could mean that an intermediate result is being cached.\n",
      "1 loop, best of 3: 1.77 ms per loop\n",
      "Predict test2:\n",
      "The slowest run took 41.44 times longer than the fastest. This could mean that an intermediate result is being cached.\n",
      "1 loop, best of 3: 4.9 ms per loop\n",
      "Predict test3:\n",
      "The slowest run took 18.20 times longer than the fastest. This could mean that an intermediate result is being cached.\n",
      "1 loop, best of 3: 16 ms per loop\n"
     ]
    }
   ],
   "source": [
    "# measure timings\n",
    "approx_tf = GPflow_norm(X_train, Y_train, kernel_name = 'RBF')\n",
    "print('Create model and optimize hps:')\n",
    "%timeit GPflow_norm(X_train, Y_train, kernel_name = 'RBF')\n",
    "print('Predict test1:')\n",
    "%timeit approx_tf.predict_with_var(X_test1)\n",
    "print('Predict test2:')\n",
    "%timeit approx_tf.predict_with_var(X_test2)\n",
    "print('Predict test3:')\n",
    "%timeit approx_tf.predict_with_var(X_test3)"
   ]
  },
  {
   "cell_type": "markdown",
   "metadata": {},
   "source": [
    "## 2D Example"
   ]
  },
  {
   "cell_type": "code",
   "execution_count": 9,
   "metadata": {},
   "outputs": [],
   "source": [
    "def f(x):\n",
    "    return x[:, 0:1] ** 2 + 0.4 * (x[:, 1:2] - 0.5) ** 3.\n",
    "\n",
    "# generate training data\n",
    "Ntrain = 200\n",
    "Ntest1 = 50\n",
    "Ntest2 = 500\n",
    "Ntest3 = 2000\n",
    "\n",
    "X_train = np.random.rand(Ntrain, 2)\n",
    "Y_train = f(X_train)\n",
    "\n",
    "X_test1 = np.random.rand(Ntest1, 2)\n",
    "Y_test1 = f(X_test1)\n",
    "\n",
    "X_test2 = np.random.rand(Ntest2, 2)\n",
    "Y_test2 = f(X_test2)\n",
    "\n",
    "X_test3 = np.random.rand(Ntest3, 2)\n",
    "Y_test3 = f(X_test3)"
   ]
  },
  {
   "cell_type": "markdown",
   "metadata": {},
   "source": [
    "#### a) without `@tf.function`"
   ]
  },
  {
   "cell_type": "code",
   "execution_count": 10,
   "metadata": {},
   "outputs": [
    {
     "data": {
      "text/html": [
       "<table>\n",
       "<thead>\n",
       "<tr><th>name                   </th><th>class    </th><th>transform       </th><th>prior  </th><th>trainable  </th><th>shape  </th><th>dtype  </th><th>value  </th></tr>\n",
       "</thead>\n",
       "<tbody>\n",
       "<tr><td>GPR.kernel.variance    </td><td>Parameter</td><td>Softplus        </td><td>       </td><td>True       </td><td>()     </td><td>float64</td><td>1.0    </td></tr>\n",
       "<tr><td>GPR.kernel.lengthscales</td><td>Parameter</td><td>Softplus        </td><td>       </td><td>True       </td><td>(2,)   </td><td>float64</td><td>[1. 1.]</td></tr>\n",
       "<tr><td>GPR.likelihood.variance</td><td>Parameter</td><td>Softplus + Shift</td><td>       </td><td>True       </td><td>()     </td><td>float64</td><td>1.0    </td></tr>\n",
       "</tbody>\n",
       "</table>"
      ],
      "text/plain": [
       "<IPython.core.display.HTML object>"
      ]
     },
     "metadata": {},
     "output_type": "display_data"
    },
    {
     "data": {
      "text/html": [
       "<table>\n",
       "<thead>\n",
       "<tr><th>name                   </th><th>class    </th><th>transform       </th><th>prior  </th><th>trainable  </th><th>shape  </th><th>dtype  </th><th>value                  </th></tr>\n",
       "</thead>\n",
       "<tbody>\n",
       "<tr><td>GPR.kernel.variance    </td><td>Parameter</td><td>Softplus        </td><td>       </td><td>True       </td><td>()     </td><td>float64</td><td>2696.007281572945      </td></tr>\n",
       "<tr><td>GPR.kernel.lengthscales</td><td>Parameter</td><td>Softplus        </td><td>       </td><td>True       </td><td>(2,)   </td><td>float64</td><td>[9.2547561  4.99937864]</td></tr>\n",
       "<tr><td>GPR.likelihood.variance</td><td>Parameter</td><td>Softplus + Shift</td><td>       </td><td>True       </td><td>()     </td><td>float64</td><td>1e-06                  </td></tr>\n",
       "</tbody>\n",
       "</table>"
      ],
      "text/plain": [
       "<IPython.core.display.HTML object>"
      ]
     },
     "metadata": {},
     "output_type": "display_data"
    }
   ],
   "source": [
    "# note that we have to pass the array as lengthscales argument if we want non-isotropic lengthscales\n",
    "approx = gp.models.GPR(data=(X_train, Y_train), kernel=gp.kernels.SquaredExponential(lengthscales = np.array([1., 1.])), mean_function=None)\n",
    "gp.utilities.print_summary(approx)\n",
    "# optimize hp\n",
    "optimizer = gp.optimizers.Scipy()\n",
    "optimizer.minimize(approx.training_loss, approx.trainable_variables, options=dict(maxiter=100))\n",
    "gp.utilities.print_summary(approx)"
   ]
  },
  {
   "cell_type": "code",
   "execution_count": 11,
   "metadata": {},
   "outputs": [],
   "source": [
    "# make predictions\n",
    "Y_train_approx, var_train_approx = approx.predict_f(X_train)\n",
    "Y_test1_approx, var_test1_approx = approx.predict_f(X_test1)\n",
    "Y_test2_approx, var_test2_approx = approx.predict_f(X_test2)\n",
    "Y_test3_approx, var_test3_approx = approx.predict_f(X_test3)\n"
   ]
  },
  {
   "cell_type": "code",
   "execution_count": 12,
   "metadata": {},
   "outputs": [
    {
     "data": {
      "image/png": "[encoded data removed]",
      "text/plain": [
       "<matplotlib.figure.Figure at 0x7f1eb4f98438>"
      ]
     },
     "metadata": {
      "needs_background": "light"
     },
     "output_type": "display_data"
    },
    {
     "data": {
      "image/png": "[encoded data removed]",
      "text/plain": [
       "<matplotlib.figure.Figure at 0x7f1ebfedff28>"
      ]
     },
     "metadata": {
      "needs_background": "light"
     },
     "output_type": "display_data"
    }
   ],
   "source": [
    "plt.plot(X_train[:, 0], Y_train[:, 0], 'bo', label = 'training data')\n",
    "plt.plot(X_train[:, 0], Y_train_approx[:, 0], 'rx', label = 'prediction')\n",
    "plt.xlabel('Dimension 0')\n",
    "plt.legend()\n",
    "plt.show()\n",
    "\n",
    "plt.plot(X_train[:, 1], Y_train[:, 0], 'bo', label = 'training data')\n",
    "plt.plot(X_train[:, 1], Y_train_approx[:, 0], 'rx', label = 'prediction')\n",
    "plt.xlabel('Dimension 1')\n",
    "plt.legend()\n",
    "plt.show()"
   ]
  },
  {
   "cell_type": "code",
   "execution_count": 13,
   "metadata": {},
   "outputs": [
    {
     "name": "stdout",
     "output_type": "stream",
     "text": [
      "Create model:\n",
      "100 loops, best of 3: 12.9 ms per loop\n",
      "Optimize hps:\n",
      "1 loop, best of 3: 237 ms per loop\n",
      "Predict test1:\n",
      "100 loops, best of 3: 15.6 ms per loop\n",
      "Predict test2:\n",
      "10 loops, best of 3: 20.6 ms per loop\n",
      "Predict test3:\n",
      "10 loops, best of 3: 32.7 ms per loop\n"
     ]
    }
   ],
   "source": [
    "# measure timings\n",
    "print('Create model:')\n",
    "%timeit gp.models.GPR(data=(X_train, Y_train), kernel=gp.kernels.SquaredExponential(), mean_function=None)\n",
    "print('Optimize hps:')\n",
    "%timeit optimizer.minimize(approx.training_loss, approx.trainable_variables, options=dict(maxiter=100))\n",
    "print('Predict test1:')\n",
    "%timeit approx.predict_f(X_test1)\n",
    "print('Predict test2:')\n",
    "%timeit approx.predict_f(X_test2)\n",
    "print('Predict test3:')\n",
    "%timeit approx.predict_f(X_test3)"
   ]
  },
  {
   "cell_type": "markdown",
   "metadata": {},
   "source": [
    "### b) now using `@tf.function`"
   ]
  },
  {
   "cell_type": "code",
   "execution_count": 14,
   "metadata": {},
   "outputs": [
    {
     "name": "stdout",
     "output_type": "stream",
     "text": [
      "WARNING:tensorflow:5 out of the last 66 calls to <function Scipy.eval_func.<locals>._tf_eval at 0x7f1eb4e41ea0> triggered tf.function retracing. Tracing is expensive and the excessive number of tracings could be due to (1) creating @tf.function repeatedly in a loop, (2) passing tensors with different shapes, (3) passing Python objects instead of tensors. For (1), please define your @tf.function outside of the loop. For (2), @tf.function has experimental_relax_shapes=True option that relaxes argument shapes that can avoid unnecessary retracing. For (3), please refer to https://www.tensorflow.org/guide/function#controlling_retracing and https://www.tensorflow.org/api_docs/python/tf/function for  more details.\n",
      "Create model and optimize hps:\n",
      "1 loop, best of 3: 563 ms per loop\n",
      "Predict test1:\n",
      "The slowest run took 100.53 times longer than the fastest. This could mean that an intermediate result is being cached.\n",
      "100 loops, best of 3: 1.99 ms per loop\n",
      "Predict test2:\n",
      "The slowest run took 51.87 times longer than the fastest. This could mean that an intermediate result is being cached.\n",
      "1 loop, best of 3: 4.58 ms per loop\n",
      "Predict test3:\n",
      "The slowest run took 19.87 times longer than the fastest. This could mean that an intermediate result is being cached.\n",
      "1 loop, best of 3: 17.8 ms per loop\n"
     ]
    }
   ],
   "source": [
    "# measure timings\n",
    "approx_tf = GPflow_norm(X_train, Y_train, kernel_name = 'RBF')\n",
    "print('Create model and optimize hps:')\n",
    "%timeit GPflow_norm(X_train, Y_train, kernel_name = 'RBF')\n",
    "print('Predict test1:')\n",
    "%timeit approx_tf.predict_with_var(X_test1)\n",
    "print('Predict test2:')\n",
    "%timeit approx_tf.predict_with_var(X_test2)\n",
    "print('Predict test3:')\n",
    "%timeit approx_tf.predict_with_var(X_test3)"
   ]
  },
  {
   "cell_type": "code",
   "execution_count": null,
   "metadata": {},
   "outputs": [],
   "source": []
  },
  {
   "cell_type": "code",
   "execution_count": null,
   "metadata": {},
   "outputs": [],
   "source": []
  }
 ],
 "metadata": {
  "kernelspec": {
   "display_name": "Python 3",
   "language": "python",
   "name": "python3"
  },
  "language_info": {
   "codemirror_mode": {
    "name": "ipython",
    "version": 3
   },
   "file_extension": ".py",
   "mimetype": "text/x-python",
   "name": "python",
   "nbconvert_exporter": "python",
   "pygments_lexer": "ipython3",
   "version": "3.6.9"
  }
 },
 "nbformat": 4,
 "nbformat_minor": 4
}

{
 "cells": [
  {
   "cell_type": "code",
   "execution_count": 1,
   "id": "ideal-arrival",
   "metadata": {},
   "outputs": [
    {
     "data": {
      "image/png": "[encoded data removed]",
      "text/plain": [
       "<Figure size 648x360 with 2 Axes>"
      ]
     },
     "metadata": {
      "needs_background": "light"
     },
     "output_type": "display_data"
    }
   ],
   "source": [
    "import numpy as np\n",
    "import matplotlib.pyplot as plt\n",
    "from scipy import linalg\n",
    "from sklearn.gaussian_process import GaussianProcessRegressor\n",
    "from sklearn.gaussian_process.kernels import RBF, ConstantKernel as C\n",
    "\n",
    "\"\"\"\n",
    "Scheidegger & Bilionis (2017), \n",
    "Machine Learning for High-Dimensional Dynamic Stochastic Economies\n",
    "\n",
    "https://papers.ssrn.com/sol3/papers.cfm?abstract_id=2927400\n",
    "\n",
    "The example below corresponds to figure 4 from the paper.\n",
    "It demonstrates the procedure for constructing \n",
    "the active subspace and then compares the Gaussian process \n",
    "regression on the original subspace to the GPR on the active subspace.\n",
    "\n",
    "In this example, we move to a higher dimensional function test_function:ℝ^10→ℝ. \n",
    "\"\"\"\n",
    "\n",
    "#Figure 4\n",
    "#In this example, we move to a higher dimensional function test_example:ℝ^10→ℝ. \n",
    "\n",
    "def test_example(x):\n",
    "    return np.exp(0.01*x[0] + 0.7*x[1] + 0.02*x[2] + 0.03*x[3] + 0.04*x[4] + \n",
    "                  0.05*x[5] + 0.06*x[6] + 0.08*x[7] + 0.09*x[8] + 0.1*x[9])\n",
    "\n",
    "def dtest_example(x):\n",
    "    val = test_example(x)\n",
    "    coefs = np.array([0.01, 0.7, 0.02, 0.03, 0.04, 0.05, 0.06, 0.08, 0.09, 0.1])\n",
    "    return val[:, None] * coefs[None, :]\n",
    "\n",
    "\n",
    "#Evaluating this function on points in \\Omega = [-1,1]^2\n",
    "def randOmega(N, D):\n",
    "    \"random points on \\Omega = [-1,1]^D\"\n",
    "    return 2 * (np.random.rand(N, D) - 0.5)\n",
    "\n",
    "def example():\n",
    "    np.random.seed(41)\n",
    "    N = 300\n",
    "    X = randOmega(N, 10)\n",
    "    V = test_example(X.T)\n",
    "    G = dtest_example(X.T)\n",
    "    CN = (G.T @ G) / N\n",
    "\n",
    "    # find active subspace\n",
    "    vals, vecs = linalg.eigh(CN)\n",
    "    W = vecs[:, -1]\n",
    "    \n",
    "    fig, ax = plt.subplots(1, 2, figsize=(9, 5))\n",
    "    x = np.arange(1, 11)\n",
    "    ax[0].plot(x, vals, \".\", ms=15)\n",
    "    ax[0].set_xlabel(\"Eigenvalues\")\n",
    "    ax[0].set_xticks(x)\n",
    "    ax[0].set_ylabel(\"$\\lambda$\")\n",
    "    \n",
    "    ax[1].plot(x, W, \".\", ms=15)\n",
    "    ax[1].set_xlabel(\"Input dimension\")\n",
    "    ax[1].set_xticks(x)\n",
    "    ax[1].set_ylabel(\"Magnitude of W\")\n",
    "    \n",
    "    fig.tight_layout()\n",
    "    plt.show()\n",
    "\n",
    "    return fig\n",
    "\n",
    "\n",
    "example();"
   ]
  },
  {
   "cell_type": "code",
   "execution_count": null,
   "id": "signal-mistake",
   "metadata": {},
   "outputs": [],
   "source": []
  }
 ],
 "metadata": {
  "kernelspec": {
   "display_name": "Python 3",
   "language": "python",
   "name": "python3"
  },
  "language_info": {
   "codemirror_mode": {
    "name": "ipython",
    "version": 3
   },
   "file_extension": ".py",
   "mimetype": "text/x-python",
   "name": "python",
   "nbconvert_exporter": "python",
   "pygments_lexer": "ipython3",
   "version": "3.8.5"
  }
 },
 "nbformat": 4,
 "nbformat_minor": 5
}

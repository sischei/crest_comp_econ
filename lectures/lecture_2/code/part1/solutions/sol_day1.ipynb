{
 "cells": [
  {
   "cell_type": "markdown",
   "metadata": {
    "pycharm": {
     "name": "#%% md\n"
    }
   },
   "source": [
    "# Import and create function"
   ]
  },
  {
   "cell_type": "code",
   "execution_count": 1,
   "metadata": {
    "pycharm": {
     "name": "#%%\n"
    }
   },
   "outputs": [],
   "source": [
    "import numpy as np\n",
    "import pandas as pd\n",
    "from matplotlib import pyplot as plt\n",
    "\n",
    "from data import Data\n",
    "from ml_model import DNN, RNN\n",
    "\n",
    "\n",
    "# This is the true unknown, one-dimensional function we are trying to approximate\n",
    "F = [\n",
    "    lambda x: np.cos(2*np.pi+np.sum(x,1)),\n",
    "    lambda x: np.prod((x-0.5)**2,1),\n",
    "    lambda x: (1+np.sum(x,1))**-2,\n",
    "    lambda x: np.exp(-np.sum((x-0.5)**2,1)),\n",
    "    lambda x: np.exp(-np.sum(np.abs(x-0.5),1)),\n",
    "    lambda x: np.any(x>0.5)*(np.exp(np.sum(x,1)))\n",
    "]"
   ]
  },
  {
   "cell_type": "markdown",
   "metadata": {
    "pycharm": {
     "name": "#%% md\n"
    }
   },
   "source": [
    "# Select a test function"
   ]
  },
  {
   "cell_type": "code",
   "execution_count": 2,
   "metadata": {
    "pycharm": {
     "name": "#%%\n"
    }
   },
   "outputs": [],
   "source": [
    "f = F[-1]"
   ]
  },
  {
   "cell_type": "markdown",
   "metadata": {
    "pycharm": {
     "is_executing": false,
     "name": "#%% md\n"
    }
   },
   "source": [
    "# Run a loop"
   ]
  },
  {
   "cell_type": "code",
   "execution_count": 3,
   "metadata": {
    "pycharm": {
     "name": "#%%\n"
    }
   },
   "outputs": [
    {
     "name": "stdout",
     "output_type": "stream",
     "text": [
      "N 10.0\n",
      "### start training for 25 epochs\n",
      "### training finish \n",
      "\n",
      "N 2507.5\n",
      "### start training for 25 epochs\n",
      "### training finish \n",
      "\n",
      "N 5005.0\n",
      "### start training for 25 epochs\n",
      "### training finish \n",
      "\n",
      "N 7502.5\n",
      "### start training for 25 epochs\n",
      "### training finish \n",
      "\n",
      "N 10000.0\n",
      "### start training for 25 epochs\n",
      "### training finish \n",
      "\n",
      "N 10.0\n",
      "### start training for 25 epochs\n",
      "### training finish \n",
      "\n",
      "N 2507.5\n",
      "### start training for 25 epochs\n",
      "### training finish \n",
      "\n",
      "N 5005.0\n",
      "### start training for 25 epochs\n",
      "### training finish \n",
      "\n",
      "N 7502.5\n",
      "### start training for 25 epochs\n",
      "### training finish \n",
      "\n",
      "N 10000.0\n",
      "### start training for 25 epochs\n",
      "### training finish \n",
      "\n",
      "N 10.0\n",
      "### start training for 25 epochs\n",
      "### training finish \n",
      "\n",
      "N 2507.5\n",
      "### start training for 25 epochs\n",
      "### training finish \n",
      "\n",
      "N 5005.0\n",
      "### start training for 25 epochs\n",
      "### training finish \n",
      "\n",
      "N 7502.5\n",
      "### start training for 25 epochs\n",
      "### training finish \n",
      "\n",
      "N 10000.0\n",
      "### start training for 25 epochs\n",
      "### training finish \n",
      "\n"
     ]
    },
    {
     "data": {
      "image/png": "[encoded data removed]",
      "text/plain": [
       "<Figure size 1382.4x345.6 with 3 Axes>"
      ]
     },
     "metadata": {
      "needs_background": "light"
     },
     "output_type": "display_data"
    },
    {
     "data": {
      "text/plain": [
       "<Figure size 921.6x345.6 with 0 Axes>"
      ]
     },
     "metadata": {},
     "output_type": "display_data"
    },
    {
     "data": {
      "text/plain": [
       "<Figure size 921.6x345.6 with 0 Axes>"
      ]
     },
     "metadata": {},
     "output_type": "display_data"
    },
    {
     "data": {
      "text/plain": [
       "<Figure size 921.6x345.6 with 0 Axes>"
      ]
     },
     "metadata": {},
     "output_type": "display_data"
    }
   ],
   "source": [
    "# fig = plt.figure(figsize=(6.4 * 3, 4.8 * 1))\n",
    "fig, axs = plt.subplots(1,3,figsize=(6.4 * 3, 4.8 * 1))\n",
    "k = 0\n",
    "for D in [2,3,5]:\n",
    "\n",
    "    # This is the kernel function\n",
    "    # Here we run the tes\n",
    "    res = []\n",
    "    plt.figure(figsize=(6.4 * 2, 4.8 * 1))\n",
    "    res = pd.DataFrame()\n",
    "    for N in np.linspace(10,10*1000,5):\n",
    "        # todo vary what N represents\n",
    "        print('N',N)\n",
    "\n",
    "        n = 1000\n",
    "\n",
    "        data = Data()\n",
    "        data.random_data_with_f(f,D=D,N=N)\n",
    "\n",
    "        model=DNN()\n",
    "        model.create_model(data,activation='swish')\n",
    "        model.train_model(data=data,verbose=0,epoch=25)\n",
    "\n",
    "        pred=model.model.predict(data.X_tr)\n",
    "        pred_va=model.model.predict(data.X_va)\n",
    "        pred_te=model.model.predict(data.X_te)\n",
    "\n",
    "        data.X_te==data.X_va\n",
    "        np.round(data.y_tr - pred)\n",
    "        tr=np.mean(np.square(data.y_tr - pred))\n",
    "        va=np.mean(np.square(data.y_va - pred_va))\n",
    "        te=np.mean(np.square(data.y_te - pred_te))\n",
    "        res=res.append(pd.DataFrame(data={'tr':[tr],'va':[va],'te':[te]},index=[N]))\n",
    "\n",
    "    # plt.subplot(1, 3, k)\n",
    "    axs[k].plot(res.index, res['te'], color='k', label='Mean MSE')\n",
    "    axs[k].set_title(f'Dimension = {D}')\n",
    "    axs[k].grid()\n",
    "    axs[k].set_ylabel('Mean MAE')\n",
    "    k += 1\n",
    "\n",
    "\n",
    "plt.show()\n"
   ]
  },
  {
   "cell_type": "markdown",
   "metadata": {
    "pycharm": {
     "name": "#%% md\n"
    }
   },
   "source": [
    "# MNIST Data set"
   ]
  },
  {
   "cell_type": "code",
   "execution_count": 4,
   "metadata": {
    "pycharm": {
     "name": "#%%\n"
    }
   },
   "outputs": [
    {
     "name": "stdout",
     "output_type": "stream",
     "text": [
      "Model: \"sequential_15\"\n",
      "_________________________________________________________________\n",
      "Layer (type)                 Output Shape              Param #   \n",
      "=================================================================\n",
      "dense_60 (Dense)             (None, 400)               26000     \n",
      "_________________________________________________________________\n",
      "dense_61 (Dense)             (None, 400)               160400    \n",
      "_________________________________________________________________\n",
      "dense_62 (Dense)             (None, 400)               160400    \n",
      "_________________________________________________________________\n",
      "dense_63 (Dense)             (None, 400)               160400    \n",
      "_________________________________________________________________\n",
      "dense_64 (Dense)             (None, 400)               160400    \n",
      "_________________________________________________________________\n",
      "dense_65 (Dense)             (None, 400)               160400    \n",
      "_________________________________________________________________\n",
      "dense_66 (Dense)             (None, 400)               160400    \n",
      "_________________________________________________________________\n",
      "dense_67 (Dense)             (None, 10)                4010      \n",
      "=================================================================\n",
      "Total params: 992,410\n",
      "Trainable params: 992,410\n",
      "Non-trainable params: 0\n",
      "_________________________________________________________________\n",
      "None\n",
      "### start training for 25 epochs\n",
      "### training finish \n",
      "\n"
     ]
    },
    {
     "data": {
      "image/png": "[encoded data removed]",
      "text/plain": [
       "<Figure size 432x288 with 1 Axes>"
      ]
     },
     "metadata": {
      "needs_background": "light"
     },
     "output_type": "display_data"
    },
    {
     "name": "stdout",
     "output_type": "stream",
     "text": [
      "        Predicted 0  Predicted 1  Predicted 2  Predicted 3  Predicted 4  \\\n",
      "True 0           20            0            0            0            0   \n",
      "True 1            0           18            0            0            0   \n",
      "True 2            0            0           16            0            0   \n",
      "True 3            0            0            0           17            0   \n",
      "True 4            0            0            0            0           17   \n",
      "True 5            0            0            0            0            0   \n",
      "True 6            0            0            0            0            0   \n",
      "True 7            0            0            0            0            0   \n",
      "True 8            0            0            0            0            0   \n",
      "True 9            0            0            0            0            0   \n",
      "\n",
      "        Predicted 5  Predicted 6  Predicted 7  Predicted 8  Predicted 9  \n",
      "True 0            0            0            0            0            0  \n",
      "True 1            0            0            0            0            0  \n",
      "True 2            0            0            0            0            0  \n",
      "True 3            0            0            0            0            0  \n",
      "True 4            0            0            0            0            0  \n",
      "True 5           20            0            0            0            0  \n",
      "True 6            0           17            0            0            0  \n",
      "True 7            0            0           18            0            0  \n",
      "True 8            0            0            0           18            0  \n",
      "True 9            0            0            0            0           19  \n"
     ]
    }
   ],
   "source": [
    "data = Data()\n",
    "data.load_mnist()\n",
    "model=DNN()\n",
    "model.create_model(data,architecture=[400,400,400,400,400,400,400],activation='swish',verbose=1)\n",
    "\n",
    "model.train_model(data,epoch=25,verbose=0)\n",
    "model.hist_training\n",
    "model.show_performance(label_='test',data=data)\n"
   ]
  }
 ],
 "metadata": {
  "kernelspec": {
   "display_name": "Python 3",
   "language": "python",
   "name": "python3"
  },
  "language_info": {
   "codemirror_mode": {
    "name": "ipython",
    "version": 3
   },
   "file_extension": ".py",
   "mimetype": "text/x-python",
   "name": "python",
   "nbconvert_exporter": "python",
   "pygments_lexer": "ipython3",
   "version": "3.6.9"
  },
  "pycharm": {
   "stem_cell": {
    "cell_type": "raw",
    "metadata": {
     "collapsed": false
    },
    "source": []
   }
  }
 },
 "nbformat": 4,
 "nbformat_minor": 4
}
